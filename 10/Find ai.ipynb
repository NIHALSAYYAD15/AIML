{
 "cells": [
  {
   "cell_type": "code",
   "execution_count": null,
   "id": "d70dcdd8",
   "metadata": {},
   "outputs": [],
   "source": []
  },
  {
   "cell_type": "markdown",
   "id": "26c7b0c8",
   "metadata": {},
   "source": [
    "1. Path Finding using A Star Algorithm :-"
   ]
  },
  {
   "cell_type": "code",
   "execution_count": 1,
   "id": "485a55c9-b3dc-48ba-a159-d2ca604c5c0f",
   "metadata": {},
   "outputs": [
    {
     "name": "stdout",
     "output_type": "stream",
     "text": [
      "[(0, 0), (0, 1), (1, 1)]\n"
     ]
    }
   ],
   "source": [
    "import heapq\n",
    "\n",
    "def heuristic(node, goal):\n",
    "    # Manhattan distance heuristic\n",
    "    x1, y1 = node\n",
    "    x2, y2 = goal\n",
    "    return abs(x1 - x2) + abs(y1 - y2)\n",
    "\n",
    "def a_star(graph, start, goal):\n",
    "    open_set = [(0, start)]\n",
    "    came_from = {}\n",
    "    g_score = {node: float('inf') for node in graph}\n",
    "    g_score[start] = 0\n",
    "\n",
    "    while open_set:\n",
    "        current_score, current_node = heapq.heappop(open_set)\n",
    "\n",
    "        if current_node == goal:\n",
    "            path = []\n",
    "            while current_node in came_from:\n",
    "                path.append(current_node)\n",
    "                current_node = came_from[current_node]\n",
    "            path.append(start)\n",
    "            return path[::-1]\n",
    "\n",
    "        for neighbor, cost in graph[current_node].items():\n",
    "            tentative_g_score = g_score[current_node] + cost\n",
    "            if tentative_g_score < g_score[neighbor]:\n",
    "                came_from[neighbor] = current_node\n",
    "                g_score[neighbor] = tentative_g_score\n",
    "                f_score = tentative_g_score + heuristic(neighbor, goal)\n",
    "                heapq.heappush(open_set, (f_score, neighbor))\n",
    "    \n",
    "    return None  # No path found\n",
    "\n",
    "# Example usage:\n",
    "graph = {\n",
    "    (0, 0): {(0, 1): 1, (1, 0): 1},\n",
    "    (0, 1): {(0, 0): 1, (1, 1): 1},\n",
    "    (1, 0): {(0, 0): 1, (1, 1): 1},\n",
    "    (1, 1): {(0, 1): 1, (1, 0): 1}\n",
    "}\n",
    "\n",
    "start_node = (0, 0)\n",
    "goal_node = (1, 1)\n",
    "print(a_star(graph, start_node, goal_node))"
   ]
  },
  {
   "cell_type": "markdown",
   "id": "cb673840",
   "metadata": {},
   "source": [
    "2. Path Finding Using Dijkstra Algorithm :-"
   ]
  },
  {
   "cell_type": "code",
   "execution_count": 2,
   "id": "d297d846",
   "metadata": {},
   "outputs": [
    {
     "name": "stdout",
     "output_type": "stream",
     "text": [
      "['A', 'B', 'C', 'D']\n"
     ]
    }
   ],
   "source": [
    "import heapq\n",
    "\n",
    "def dijkstra(graph, start, goal):\n",
    "    # Priority queue for open nodes\n",
    "    open_set = [(0, start)]\n",
    "    # Keep track of the shortest distance to each node\n",
    "    distance = {node: float('inf') for node in graph}\n",
    "    distance[start] = 0\n",
    "    # Keep track of the path\n",
    "    came_from = {}\n",
    "    \n",
    "    while open_set:\n",
    "        # Pop the node with the smallest distance from the open set\n",
    "        current_distance, current_node = heapq.heappop(open_set)\n",
    "        \n",
    "        if current_node == goal:\n",
    "            path = []\n",
    "            while current_node in came_from:\n",
    "                path.append(current_node)\n",
    "                current_node = came_from[current_node]\n",
    "            path.append(start)\n",
    "            return path[::-1]\n",
    "        \n",
    "        for neighbor, cost in graph[current_node].items():\n",
    "            new_distance = distance[current_node] + cost\n",
    "            if new_distance < distance[neighbor]:\n",
    "                distance[neighbor] = new_distance\n",
    "                came_from[neighbor] = current_node\n",
    "                heapq.heappush(open_set, (new_distance, neighbor))\n",
    "    \n",
    "    return None  # No path found\n",
    "\n",
    "# Example usage:\n",
    "graph = {\n",
    "    'A': {'B': 1, 'C': 4},\n",
    "    'B': {'A': 1, 'C': 2, 'D': 5},\n",
    "    'C': {'A': 4, 'B': 2, 'D': 1},\n",
    "    'D': {'B': 5, 'C': 1}\n",
    "}\n",
    "\n",
    "start_node = 'A'\n",
    "goal_node = 'D'\n",
    "print(dijkstra(graph, start_node, goal_node))\n"
   ]
  },
  {
   "cell_type": "code",
   "execution_count": null,
   "id": "c14ebe34",
   "metadata": {},
   "outputs": [],
   "source": []
  }
 ],
 "metadata": {
  "kernelspec": {
   "display_name": "Python 3 (ipykernel)",
   "language": "python",
   "name": "python3"
  },
  "language_info": {
   "codemirror_mode": {
    "name": "ipython",
    "version": 3
   },
   "file_extension": ".py",
   "mimetype": "text/x-python",
   "name": "python",
   "nbconvert_exporter": "python",
   "pygments_lexer": "ipython3",
   "version": "3.12.2"
  }
 },
 "nbformat": 4,
 "nbformat_minor": 5
}
