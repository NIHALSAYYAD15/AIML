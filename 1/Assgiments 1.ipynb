{
 "cells": [
  {
   "cell_type": "code",
   "execution_count": 1,
   "id": "65f9c110-4de1-4b21-94a0-5b2c95588c50",
   "metadata": {},
   "outputs": [],
   "source": [
    "from faker import Faker\n",
    "import random\n",
    "import pandas as pd\n",
    "from datetime import datetime, timedelta\n",
    "\n",
    "# Generate 100 users with detailed location data for a day\n",
    "fake = Faker()\n",
    "data = []\n",
    "\n",
    "for _ in range(100):\n",
    "    user_id = fake.uuid4()\n",
    "    user_name = fake.name()\n",
    "    start_time = datetime(2024, 1, 1, 8, 0, 0)  # Starting at 8:00 AM\n",
    "    end_time = datetime(2024, 1, 1, 20, 0, 0)  # Ending at 8:00 PM\n",
    "\n",
    "    while start_time < end_time:\n",
    "        data.append({\n",
    "            'User_ID': user_id,\n",
    "            'User_Name': user_name,\n",
    "            'Timestamp': start_time,\n",
    "            'Latitude': fake.latitude(),\n",
    "            'Longitude': fake.longitude(),\n",
    "            'Location': random.choice(['Park', 'Restaurant', 'Office', 'Home', 'Shopping Mall'])\n",
    "        })\n",
    "        start_time += timedelta(minutes=random.randint(15, 120))  # Random time interval between 15 to 120 minutes\n",
    "\n",
    "# Save the generated data to a CSV file\n",
    "df = pd.DataFrame(data)\n",
    "df.to_csv('data.csv', index=False)\n"
   ]
  },
  {
   "cell_type": "code",
   "execution_count": 4,
   "id": "918f965e-a91a-4e37-8a4b-c40c447d34ec",
   "metadata": {},
   "outputs": [
    {
     "name": "stdin",
     "output_type": "stream",
     "text": [
      "Enter User Name:  Stacey Woods\n"
     ]
    },
    {
     "name": "stdout",
     "output_type": "stream",
     "text": [
      "Predicted Next Location: Restaurant\n",
      "Prediction Time: 2024-01-30 12:42:25.322326\n"
     ]
    }
   ],
   "source": [
    "from sklearn.model_selection import train_test_split\n",
    "from sklearn.tree import DecisionTreeClassifier\n",
    "from sklearn.metrics import accuracy_score\n",
    "from sklearn.preprocessing import LabelEncoder\n",
    "from datetime import datetime, timedelta\n",
    "\n",
    "# Read the dataset\n",
    "df = pd.read_csv('data.csv')\n",
    "\n",
    "# Convert categorical labels to numerical values\n",
    "le = LabelEncoder()\n",
    "df['Location'] = le.fit_transform(df['Location'])\n",
    "\n",
    "# Split the dataset into training and testing sets\n",
    "X_train, X_test, y_train, y_test = train_test_split(df[['Latitude', 'Longitude']], df['Location'], test_size=0.2, random_state=42)\n",
    "\n",
    "# Create a decision tree classifier\n",
    "clf = DecisionTreeClassifier()\n",
    "\n",
    "# Train the classifier\n",
    "clf.fit(X_train, y_train)\n",
    "\n",
    "# Function to predict next location and time for a given user name\n",
    "def predict_next_location_and_time(user_name):\n",
    "    user_data = df[df['User_Name'] == user_name][['Latitude', 'Longitude']]\n",
    "    \n",
    "    if user_data.empty:\n",
    "        return None, None  # User name not found in the dataset\n",
    "    \n",
    "    predicted_location = clf.predict(user_data)\n",
    "    predicted_location_label = le.inverse_transform(predicted_location)[0]\n",
    "    \n",
    "    # Assuming the current time is the prediction time\n",
    "    prediction_time = datetime.now() + timedelta(minutes=15)  # Adjust this based on your use case\n",
    "    \n",
    "    return predicted_location_label, prediction_time\n",
    "\n",
    "# User input for the user name\n",
    "user_name_input = input(\"Enter User Name: \")\n",
    "\n",
    "# Example of predicting the next location and time for the user name entered by the user\n",
    "predicted_location, prediction_time = predict_next_location_and_time(user_name_input)\n",
    "\n",
    "if predicted_location is not None:\n",
    "    print(f'Predicted Next Location: {predicted_location}')\n",
    "    print(f'Prediction Time: {prediction_time}')\n",
    "else:\n",
    "    print(f'User Name not found in the dataset.')\n"
   ]
  },
  {
   "cell_type": "code",
   "execution_count": null,
   "id": "dc340d07-3221-47db-b9f1-97aaad789b23",
   "metadata": {},
   "outputs": [],
   "source": []
  }
 ],
 "metadata": {
  "kernelspec": {
   "display_name": "Python 3 (ipykernel)",
   "language": "python",
   "name": "python3"
  },
  "language_info": {
   "codemirror_mode": {
    "name": "ipython",
    "version": 3
   },
   "file_extension": ".py",
   "mimetype": "text/x-python",
   "name": "python",
   "nbconvert_exporter": "python",
   "pygments_lexer": "ipython3",
   "version": "3.11.4"
  }
 },
 "nbformat": 4,
 "nbformat_minor": 5
}
